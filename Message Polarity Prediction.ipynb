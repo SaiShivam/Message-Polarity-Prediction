{
 "cells": [
  {
   "cell_type": "code",
   "execution_count": 89,
   "metadata": {},
   "outputs": [],
   "source": [
    "import pandas as pd\n",
    "import numpy as np\n",
    "import matplotlib.pyplot as plt\n",
    "from sklearn.metrics import f1_score, accuracy_score, confusion_matrix\n",
    "from sklearn.model_selection import StratifiedKFold,GridSearchCV,train_test_split,RandomizedSearchCV\n",
    "from sklearn.linear_model import LogisticRegression\n",
    "from xgboost import XGBClassifier\n",
    "import lightgbm as lgb\n",
    "from scipy.stats import randint as sp_randint\n",
    "from scipy.stats import uniform as sp_uniform\n",
    "from sklearn import svm\n",
    "import seaborn as sns\n",
    "from sklearn.utils import resample\n",
    "from sklearn.ensemble import RandomForestClassifier"
   ]
  },
  {
   "cell_type": "code",
   "execution_count": 90,
   "metadata": {},
   "outputs": [],
   "source": [
    "train = pd.read_csv(r'C:\\Users\\saish\\Downloads\\MessagePolarity_ParticipantsData\\MessagePolarity_ParticipantsData\\Train.csv')"
   ]
  },
  {
   "cell_type": "code",
   "execution_count": 91,
   "metadata": {},
   "outputs": [],
   "source": [
    "test = pd.read_csv(r'C:\\Users\\saish\\Downloads\\MessagePolarity_ParticipantsData\\MessagePolarity_ParticipantsData\\Test.csv')"
   ]
  },
  {
   "cell_type": "code",
   "execution_count": 92,
   "metadata": {},
   "outputs": [
    {
     "data": {
      "text/plain": [
       "((947, 54), (527, 53))"
      ]
     },
     "execution_count": 92,
     "metadata": {},
     "output_type": "execute_result"
    }
   ],
   "source": [
    "train.shape, test.shape"
   ]
  },
  {
   "cell_type": "code",
   "execution_count": 93,
   "metadata": {},
   "outputs": [
    {
     "data": {
      "text/plain": [
       "0"
      ]
     },
     "execution_count": 93,
     "metadata": {},
     "output_type": "execute_result"
    }
   ],
   "source": [
    "train.isnull().sum().sum()"
   ]
  },
  {
   "cell_type": "code",
   "execution_count": 95,
   "metadata": {},
   "outputs": [
    {
     "data": {
      "text/plain": [
       "1    579\n",
       "0    579\n",
       "Name: IsGoodNews, dtype: int64"
      ]
     },
     "execution_count": 95,
     "metadata": {},
     "output_type": "execute_result"
    }
   ],
   "source": [
    "from sklearn.utils import resample\n",
    "\n",
    "df_majority = train[train.IsGoodNews==0]\n",
    "df_minority = train[train.IsGoodNews==1]\n",
    " \n",
    "# Upsample minority class\n",
    "df_minority_upsampled = resample(df_minority, \n",
    "                                 replace=True,     # sample with replacement\n",
    "                                 n_samples=579,    # to match majority class\n",
    "                                 random_state=123) # reproducible results\n",
    " \n",
    "# Combine majority class with upsampled minority class\n",
    "train = pd.concat([df_majority, df_minority_upsampled])\n",
    " \n",
    "# Display new class counts\n",
    "train.IsGoodNews.value_counts()"
   ]
  },
  {
   "cell_type": "code",
   "execution_count": 96,
   "metadata": {},
   "outputs": [
    {
     "data": {
      "text/html": [
       "<div>\n",
       "<style scoped>\n",
       "    .dataframe tbody tr th:only-of-type {\n",
       "        vertical-align: middle;\n",
       "    }\n",
       "\n",
       "    .dataframe tbody tr th {\n",
       "        vertical-align: top;\n",
       "    }\n",
       "\n",
       "    .dataframe thead th {\n",
       "        text-align: right;\n",
       "    }\n",
       "</style>\n",
       "<table border=\"1\" class=\"dataframe\">\n",
       "  <thead>\n",
       "    <tr style=\"text-align: right;\">\n",
       "      <th></th>\n",
       "      <th>Freq_Of_Word_1</th>\n",
       "      <th>Freq_Of_Word_2</th>\n",
       "      <th>Freq_Of_Word_3</th>\n",
       "      <th>Freq_Of_Word_4</th>\n",
       "      <th>Freq_Of_Word_5</th>\n",
       "      <th>Freq_Of_Word_6</th>\n",
       "      <th>Freq_Of_Word_7</th>\n",
       "      <th>Freq_Of_Word_8</th>\n",
       "      <th>Freq_Of_Word_9</th>\n",
       "      <th>Freq_Of_Word_10</th>\n",
       "      <th>...</th>\n",
       "      <th>Freq_Of_Word_45</th>\n",
       "      <th>Freq_Of_Word_46</th>\n",
       "      <th>Freq_Of_Word_47</th>\n",
       "      <th>Freq_Of_Word_48</th>\n",
       "      <th>Freq_Of_Word_49</th>\n",
       "      <th>Freq_Of_Word_50</th>\n",
       "      <th>TotalEmojiCharacters</th>\n",
       "      <th>LengthOFFirstParagraph</th>\n",
       "      <th>StylizedLetters</th>\n",
       "      <th>IsGoodNews</th>\n",
       "    </tr>\n",
       "  </thead>\n",
       "  <tbody>\n",
       "    <tr>\n",
       "      <td>1</td>\n",
       "      <td>-0.351864</td>\n",
       "      <td>-0.318036</td>\n",
       "      <td>-0.561952</td>\n",
       "      <td>-0.039223</td>\n",
       "      <td>-0.465210</td>\n",
       "      <td>-0.353977</td>\n",
       "      <td>-0.304257</td>\n",
       "      <td>3.837751</td>\n",
       "      <td>-0.318797</td>\n",
       "      <td>-0.352968</td>\n",
       "      <td>...</td>\n",
       "      <td>-0.323019</td>\n",
       "      <td>-0.205212</td>\n",
       "      <td>-0.079531</td>\n",
       "      <td>-0.118688</td>\n",
       "      <td>-0.151911</td>\n",
       "      <td>-0.453742</td>\n",
       "      <td>-0.107383</td>\n",
       "      <td>-0.195476</td>\n",
       "      <td>-0.408024</td>\n",
       "      <td>0</td>\n",
       "    </tr>\n",
       "    <tr>\n",
       "      <td>2</td>\n",
       "      <td>-0.351864</td>\n",
       "      <td>-0.318036</td>\n",
       "      <td>-0.561952</td>\n",
       "      <td>-0.039223</td>\n",
       "      <td>-0.465210</td>\n",
       "      <td>-0.353977</td>\n",
       "      <td>-0.304257</td>\n",
       "      <td>-0.240708</td>\n",
       "      <td>-0.318797</td>\n",
       "      <td>-0.352968</td>\n",
       "      <td>...</td>\n",
       "      <td>-0.323019</td>\n",
       "      <td>-0.205212</td>\n",
       "      <td>-0.079531</td>\n",
       "      <td>-0.118688</td>\n",
       "      <td>-0.151911</td>\n",
       "      <td>-0.453742</td>\n",
       "      <td>-0.107383</td>\n",
       "      <td>-0.187634</td>\n",
       "      <td>-0.392578</td>\n",
       "      <td>0</td>\n",
       "    </tr>\n",
       "    <tr>\n",
       "      <td>4</td>\n",
       "      <td>-0.351864</td>\n",
       "      <td>-0.318036</td>\n",
       "      <td>-0.561952</td>\n",
       "      <td>-0.039223</td>\n",
       "      <td>-0.465210</td>\n",
       "      <td>-0.353977</td>\n",
       "      <td>-0.304257</td>\n",
       "      <td>-0.240708</td>\n",
       "      <td>-0.318797</td>\n",
       "      <td>-0.352968</td>\n",
       "      <td>...</td>\n",
       "      <td>-0.323019</td>\n",
       "      <td>-0.205212</td>\n",
       "      <td>-0.079531</td>\n",
       "      <td>-0.118688</td>\n",
       "      <td>-0.151911</td>\n",
       "      <td>0.930461</td>\n",
       "      <td>-0.028751</td>\n",
       "      <td>-0.113133</td>\n",
       "      <td>-0.128592</td>\n",
       "      <td>0</td>\n",
       "    </tr>\n",
       "    <tr>\n",
       "      <td>6</td>\n",
       "      <td>-0.351864</td>\n",
       "      <td>-0.318036</td>\n",
       "      <td>-0.561952</td>\n",
       "      <td>-0.039223</td>\n",
       "      <td>7.477691</td>\n",
       "      <td>-0.353977</td>\n",
       "      <td>-0.304257</td>\n",
       "      <td>-0.240708</td>\n",
       "      <td>-0.318797</td>\n",
       "      <td>-0.352968</td>\n",
       "      <td>...</td>\n",
       "      <td>-0.323019</td>\n",
       "      <td>-0.205212</td>\n",
       "      <td>-0.079531</td>\n",
       "      <td>-0.118688</td>\n",
       "      <td>-0.151911</td>\n",
       "      <td>-0.453742</td>\n",
       "      <td>-0.107383</td>\n",
       "      <td>-0.211160</td>\n",
       "      <td>-0.413640</td>\n",
       "      <td>0</td>\n",
       "    </tr>\n",
       "    <tr>\n",
       "      <td>8</td>\n",
       "      <td>-0.351864</td>\n",
       "      <td>-0.318036</td>\n",
       "      <td>0.794968</td>\n",
       "      <td>-0.039223</td>\n",
       "      <td>-0.465210</td>\n",
       "      <td>-0.353977</td>\n",
       "      <td>-0.304257</td>\n",
       "      <td>-0.240708</td>\n",
       "      <td>-0.318797</td>\n",
       "      <td>-0.352968</td>\n",
       "      <td>...</td>\n",
       "      <td>-0.323019</td>\n",
       "      <td>-0.205212</td>\n",
       "      <td>-0.079531</td>\n",
       "      <td>-0.118688</td>\n",
       "      <td>-0.151911</td>\n",
       "      <td>-0.084010</td>\n",
       "      <td>-0.107383</td>\n",
       "      <td>-0.219003</td>\n",
       "      <td>-0.385557</td>\n",
       "      <td>0</td>\n",
       "    </tr>\n",
       "  </tbody>\n",
       "</table>\n",
       "<p>5 rows × 54 columns</p>\n",
       "</div>"
      ],
      "text/plain": [
       "   Freq_Of_Word_1  Freq_Of_Word_2  Freq_Of_Word_3  Freq_Of_Word_4  \\\n",
       "1       -0.351864       -0.318036       -0.561952       -0.039223   \n",
       "2       -0.351864       -0.318036       -0.561952       -0.039223   \n",
       "4       -0.351864       -0.318036       -0.561952       -0.039223   \n",
       "6       -0.351864       -0.318036       -0.561952       -0.039223   \n",
       "8       -0.351864       -0.318036        0.794968       -0.039223   \n",
       "\n",
       "   Freq_Of_Word_5  Freq_Of_Word_6  Freq_Of_Word_7  Freq_Of_Word_8  \\\n",
       "1       -0.465210       -0.353977       -0.304257        3.837751   \n",
       "2       -0.465210       -0.353977       -0.304257       -0.240708   \n",
       "4       -0.465210       -0.353977       -0.304257       -0.240708   \n",
       "6        7.477691       -0.353977       -0.304257       -0.240708   \n",
       "8       -0.465210       -0.353977       -0.304257       -0.240708   \n",
       "\n",
       "   Freq_Of_Word_9  Freq_Of_Word_10  ...  Freq_Of_Word_45  Freq_Of_Word_46  \\\n",
       "1       -0.318797        -0.352968  ...        -0.323019        -0.205212   \n",
       "2       -0.318797        -0.352968  ...        -0.323019        -0.205212   \n",
       "4       -0.318797        -0.352968  ...        -0.323019        -0.205212   \n",
       "6       -0.318797        -0.352968  ...        -0.323019        -0.205212   \n",
       "8       -0.318797        -0.352968  ...        -0.323019        -0.205212   \n",
       "\n",
       "   Freq_Of_Word_47  Freq_Of_Word_48  Freq_Of_Word_49  Freq_Of_Word_50  \\\n",
       "1        -0.079531        -0.118688        -0.151911        -0.453742   \n",
       "2        -0.079531        -0.118688        -0.151911        -0.453742   \n",
       "4        -0.079531        -0.118688        -0.151911         0.930461   \n",
       "6        -0.079531        -0.118688        -0.151911        -0.453742   \n",
       "8        -0.079531        -0.118688        -0.151911        -0.084010   \n",
       "\n",
       "   TotalEmojiCharacters  LengthOFFirstParagraph  StylizedLetters  IsGoodNews  \n",
       "1             -0.107383               -0.195476        -0.408024           0  \n",
       "2             -0.107383               -0.187634        -0.392578           0  \n",
       "4             -0.028751               -0.113133        -0.128592           0  \n",
       "6             -0.107383               -0.211160        -0.413640           0  \n",
       "8             -0.107383               -0.219003        -0.385557           0  \n",
       "\n",
       "[5 rows x 54 columns]"
      ]
     },
     "execution_count": 96,
     "metadata": {},
     "output_type": "execute_result"
    }
   ],
   "source": [
    "train.head()"
   ]
  },
  {
   "cell_type": "code",
   "execution_count": 97,
   "metadata": {},
   "outputs": [
    {
     "data": {
      "text/plain": [
       "1    579\n",
       "0    579\n",
       "Name: IsGoodNews, dtype: int64"
      ]
     },
     "execution_count": 97,
     "metadata": {},
     "output_type": "execute_result"
    }
   ],
   "source": [
    "train.IsGoodNews.value_counts()"
   ]
  },
  {
   "cell_type": "code",
   "execution_count": 98,
   "metadata": {},
   "outputs": [
    {
     "data": {
      "text/plain": [
       "1    0.5\n",
       "0    0.5\n",
       "Name: IsGoodNews, dtype: float64"
      ]
     },
     "execution_count": 98,
     "metadata": {},
     "output_type": "execute_result"
    }
   ],
   "source": [
    "train.IsGoodNews.value_counts(normalize=True)"
   ]
  },
  {
   "cell_type": "code",
   "execution_count": 46,
   "metadata": {
    "collapsed": true
   },
   "outputs": [
    {
     "name": "stderr",
     "output_type": "stream",
     "text": [
      "C:\\ProgramData\\Anaconda3\\lib\\site-packages\\statsmodels\\nonparametric\\kde.py:487: RuntimeWarning: invalid value encountered in true_divide\n",
      "  binned = fast_linbin(X, a, b, gridsize) / (delta * nobs)\n",
      "C:\\ProgramData\\Anaconda3\\lib\\site-packages\\statsmodels\\nonparametric\\kdetools.py:34: RuntimeWarning: invalid value encountered in double_scalars\n",
      "  FAC1 = 2*(np.pi*bw/RANGE)**2\n"
     ]
    },
    {
     "data": {
      "text/plain": [
       "<seaborn.axisgrid.PairGrid at 0x2908c1e7a88>"
      ]
     },
     "execution_count": 46,
     "metadata": {},
     "output_type": "execute_result"
    },
    {
     "data": {
      "image/png": "[encoded data removed]",
      "text/plain": [
       "<Figure size 789.25x720 with 20 Axes>"
      ]
     },
     "metadata": {
      "needs_background": "light"
     },
     "output_type": "display_data"
    }
   ],
   "source": [
    "sns.pairplot(data = train[['TotalEmojiCharacters', 'LengthOFFirstParagraph', 'StylizedLetters', 'IsGoodNews']] , hue= 'IsGoodNews')"
   ]
  },
  {
   "cell_type": "code",
   "execution_count": 54,
   "metadata": {},
   "outputs": [
    {
     "data": {
      "text/html": [
       "<div>\n",
       "<style scoped>\n",
       "    .dataframe tbody tr th:only-of-type {\n",
       "        vertical-align: middle;\n",
       "    }\n",
       "\n",
       "    .dataframe tbody tr th {\n",
       "        vertical-align: top;\n",
       "    }\n",
       "\n",
       "    .dataframe thead th {\n",
       "        text-align: right;\n",
       "    }\n",
       "</style>\n",
       "<table border=\"1\" class=\"dataframe\">\n",
       "  <thead>\n",
       "    <tr style=\"text-align: right;\">\n",
       "      <th></th>\n",
       "      <th>TotalEmojiCharacters</th>\n",
       "      <th>LengthOFFirstParagraph</th>\n",
       "      <th>StylizedLetters</th>\n",
       "      <th>IsGoodNews</th>\n",
       "    </tr>\n",
       "  </thead>\n",
       "  <tbody>\n",
       "    <tr>\n",
       "      <td>TotalEmojiCharacters</td>\n",
       "      <td>1.000000</td>\n",
       "      <td>0.602551</td>\n",
       "      <td>0.119532</td>\n",
       "      <td>0.090763</td>\n",
       "    </tr>\n",
       "    <tr>\n",
       "      <td>LengthOFFirstParagraph</td>\n",
       "      <td>0.602551</td>\n",
       "      <td>1.000000</td>\n",
       "      <td>0.482246</td>\n",
       "      <td>0.301983</td>\n",
       "    </tr>\n",
       "    <tr>\n",
       "      <td>StylizedLetters</td>\n",
       "      <td>0.119532</td>\n",
       "      <td>0.482246</td>\n",
       "      <td>1.000000</td>\n",
       "      <td>0.258844</td>\n",
       "    </tr>\n",
       "    <tr>\n",
       "      <td>IsGoodNews</td>\n",
       "      <td>0.090763</td>\n",
       "      <td>0.301983</td>\n",
       "      <td>0.258844</td>\n",
       "      <td>1.000000</td>\n",
       "    </tr>\n",
       "  </tbody>\n",
       "</table>\n",
       "</div>"
      ],
      "text/plain": [
       "                        TotalEmojiCharacters  LengthOFFirstParagraph  \\\n",
       "TotalEmojiCharacters                1.000000                0.602551   \n",
       "LengthOFFirstParagraph              0.602551                1.000000   \n",
       "StylizedLetters                     0.119532                0.482246   \n",
       "IsGoodNews                          0.090763                0.301983   \n",
       "\n",
       "                        StylizedLetters  IsGoodNews  \n",
       "TotalEmojiCharacters           0.119532    0.090763  \n",
       "LengthOFFirstParagraph         0.482246    0.301983  \n",
       "StylizedLetters                1.000000    0.258844  \n",
       "IsGoodNews                     0.258844    1.000000  "
      ]
     },
     "execution_count": 54,
     "metadata": {},
     "output_type": "execute_result"
    }
   ],
   "source": [
    "train[['TotalEmojiCharacters', 'LengthOFFirstParagraph', 'StylizedLetters','IsGoodNews']].corr()"
   ]
  },
  {
   "cell_type": "code",
   "execution_count": 108,
   "metadata": {},
   "outputs": [],
   "source": [
    "# train.drop(['StylizedLetters', 'LengthOFFirstParagraph'], axis=1, inplace=True)\n",
    "X = train.drop('IsGoodNews', axis=1)\n",
    "y = train.IsGoodNews"
   ]
  },
  {
   "cell_type": "code",
   "execution_count": 109,
   "metadata": {},
   "outputs": [
    {
     "name": "stdout",
     "output_type": "stream",
     "text": [
      "          0\n",
      "0  0.891892\n",
      "1  0.875000\n",
      "2  0.852941\n",
      "3  0.900000\n",
      "4  0.911392\n",
      "5  0.894737\n",
      "6  0.947368\n",
      "7  0.947368\n",
      "8  0.906667\n",
      "9  0.916667\n"
     ]
    }
   ],
   "source": [
    "cv = StratifiedKFold(n_splits=10,random_state=22,shuffle=True)\n",
    "score_avg = []\n",
    "\n",
    "for (trainind, testind) in cv.split(X, y):\n",
    "    m = lgb.LGBMClassifier(n_jobs=-1,random_state=22,scale_pos_weight=3,learning_rate=0.1,n_estimators=100,\n",
    "                       colsample_bytree=0.5,num_leaves=70,min_child_samples=20,lambda_l1=1.6,lambda_l2=4) \n",
    "    X_train = X.iloc[trainind]\n",
    "    y_train = y.iloc[trainind]\n",
    "    m.fit(X_train,y_train)\n",
    "    X_test =  X.iloc[testind]\n",
    "    y_test = y.iloc[testind]\n",
    "    score_avg.append(f1_score(y_pred=m.predict(X_test),y_true=y_test))\n",
    "    \n",
    "print(pd.DataFrame(data=score_avg))\n"
   ]
  },
  {
   "cell_type": "code",
   "execution_count": null,
   "metadata": {},
   "outputs": [],
   "source": [
    "print(sum(score_avg)/len(score_avg))"
   ]
  },
  {
   "cell_type": "code",
   "execution_count": 7,
   "metadata": {},
   "outputs": [],
   "source": [
    "trainData, validData = train_test_split(train,\n",
    "                                            test_size=0.2,\n",
    "                                            stratify=train.IsGoodNews)"
   ]
  },
  {
   "cell_type": "code",
   "execution_count": 118,
   "metadata": {},
   "outputs": [
    {
     "data": {
      "text/plain": [
       "((757, 54), (190, 54))"
      ]
     },
     "execution_count": 118,
     "metadata": {},
     "output_type": "execute_result"
    }
   ],
   "source": [
    "trainData.shape , validData.shape"
   ]
  },
  {
   "cell_type": "code",
   "execution_count": 120,
   "metadata": {},
   "outputs": [
    {
     "data": {
      "text/plain": [
       "0.8789808917197452"
      ]
     },
     "execution_count": 120,
     "metadata": {},
     "output_type": "execute_result"
    }
   ],
   "source": [
    "lgbm  = lgb.LGBMClassifier(n_jobs=-1,random_state=22,scale_pos_weight=3,learning_rate=0.1,n_estimators=100,\n",
    "                       colsample_bytree=0.5,num_leaves=70,min_child_samples=20,lambda_l1=1.6,lambda_l2=4)\n",
    "\n",
    "lgbm.fit(trainData.drop('IsGoodNews', axis=1), trainData.IsGoodNews)\n",
    "\n",
    "predictions = lgbm.predict(validData.drop('IsGoodNews', axis=1))\n",
    "f1_score(y_true=validData.IsGoodNews, y_pred=predictions)"
   ]
  },
  {
   "cell_type": "code",
   "execution_count": 111,
   "metadata": {},
   "outputs": [
    {
     "name": "stdout",
     "output_type": "stream",
     "text": [
      "          0\n",
      "0  0.882353\n",
      "1  0.918919\n",
      "2  0.793651\n",
      "3  0.921053\n",
      "4  0.909091\n",
      "5  0.873239\n",
      "6  0.918919\n",
      "7  0.960000\n",
      "8  0.901408\n",
      "9  0.929577\n"
     ]
    }
   ],
   "source": [
    "cv = StratifiedKFold(n_splits=10,random_state=22,shuffle=True)\n",
    "score_avg = []\n",
    "\n",
    "for (trainind, testind) in cv.split(X, y):\n",
    "    m = XGBClassifier()\n",
    "\n",
    "    X_train = X.iloc[trainind]\n",
    "#     print(X_train)\n",
    "    y_train = y.iloc[trainind]\n",
    "    m.fit(X_train,y_train)\n",
    "    X_test = X.iloc[testind]\n",
    "    y_test = y.iloc[testind]\n",
    "    score_avg.append(f1_score(y_pred=m.predict(X_test),y_true=y_test))\n",
    "    \n",
    "print(pd.DataFrame(data=score_avg))"
   ]
  },
  {
   "cell_type": "code",
   "execution_count": 112,
   "metadata": {},
   "outputs": [
    {
     "name": "stdout",
     "output_type": "stream",
     "text": [
      "0.9008210465447635\n"
     ]
    }
   ],
   "source": [
    "print(sum(score_avg)/len(score_avg))"
   ]
  },
  {
   "cell_type": "markdown",
   "metadata": {},
   "source": [
    "## Xgboost tuning"
   ]
  },
  {
   "cell_type": "code",
   "execution_count": 142,
   "metadata": {},
   "outputs": [
    {
     "data": {
      "text/plain": [
       "0.8789808917197452"
      ]
     },
     "execution_count": 142,
     "metadata": {},
     "output_type": "execute_result"
    }
   ],
   "source": [
    "xgb1 = XGBClassifier(\n",
    " learning_rate =0.1,\n",
    " n_estimators=1000,\n",
    " max_depth=5,\n",
    " min_child_weight=1,\n",
    " gamma=0,\n",
    " subsample=0.8,\n",
    " colsample_bytree=0.8,\n",
    " objective= 'binary:logistic',\n",
    " nthread=4,\n",
    " scale_pos_weight=1,\n",
    " seed=27)\n",
    "xgb1.fit(trainData.drop('IsGoodNews', axis=1), trainData.IsGoodNews)\n",
    "predictions = lgbm.predict(validData.drop('IsGoodNews', axis=1))\n",
    "f1_score(y_true=validData.IsGoodNews, y_pred=predictions)"
   ]
  },
  {
   "cell_type": "code",
   "execution_count": 144,
   "metadata": {},
   "outputs": [
    {
     "data": {
      "text/plain": [
       "GridSearchCV(cv=5, error_score='raise-deprecating',\n",
       "             estimator=XGBClassifier(base_score=None, booster=None,\n",
       "                                     colsample_bylevel=None,\n",
       "                                     colsample_bynode=None,\n",
       "                                     colsample_bytree=0.8, gamma=0, gpu_id=None,\n",
       "                                     importance_type='gain',\n",
       "                                     interaction_constraints=None,\n",
       "                                     learning_rate=0.1, max_delta_step=None,\n",
       "                                     max_depth=5, min_child_weight=1,\n",
       "                                     missing=nan, monotone_constraints=None,\n",
       "                                     n_...\n",
       "                                     objective='binary:logistic',\n",
       "                                     random_state=None, reg_alpha=None,\n",
       "                                     reg_lambda=None, scale_pos_weight=1,\n",
       "                                     seed=27, subsample=0.8, tree_method=None,\n",
       "                                     validate_parameters=False,\n",
       "                                     verbosity=None),\n",
       "             iid=False, n_jobs=4,\n",
       "             param_grid={'max_depth': range(3, 10, 2),\n",
       "                         'min_child_weight': range(1, 6, 2)},\n",
       "             pre_dispatch='2*n_jobs', refit=True, return_train_score=False,\n",
       "             scoring='f1', verbose=0)"
      ]
     },
     "execution_count": 144,
     "metadata": {},
     "output_type": "execute_result"
    }
   ],
   "source": [
    "param_test1 = {\n",
    " 'max_depth':range(3,10,2),\n",
    " 'min_child_weight':range(1,6,2)\n",
    "}\n",
    "gsearch1 = GridSearchCV(estimator = XGBClassifier( learning_rate =0.1, n_estimators=140, max_depth=5,\n",
    " min_child_weight=1, gamma=0, subsample=0.8, colsample_bytree=0.8,\n",
    " objective= 'binary:logistic', nthread=4, scale_pos_weight=1, seed=27), \n",
    " param_grid = param_test1, scoring='f1',n_jobs=4,iid=False, cv=5)\n",
    "gsearch1.fit(train.drop('IsGoodNews', axis=1),train.IsGoodNews)\n",
    "# gsearch1.grid_scores_, gsearch1.best_params_, gsearch1.best_score_"
   ]
  },
  {
   "cell_type": "code",
   "execution_count": 146,
   "metadata": {},
   "outputs": [
    {
     "data": {
      "text/plain": [
       "{'max_depth': 7, 'min_child_weight': 1}"
      ]
     },
     "execution_count": 146,
     "metadata": {},
     "output_type": "execute_result"
    }
   ],
   "source": [
    "gsearch1.best_params_"
   ]
  },
  {
   "cell_type": "code",
   "execution_count": 147,
   "metadata": {},
   "outputs": [
    {
     "data": {
      "text/plain": [
       "0.906597000672523"
      ]
     },
     "execution_count": 147,
     "metadata": {},
     "output_type": "execute_result"
    }
   ],
   "source": [
    "gsearch1.best_score_"
   ]
  },
  {
   "cell_type": "code",
   "execution_count": 148,
   "metadata": {},
   "outputs": [
    {
     "data": {
      "text/plain": [
       "GridSearchCV(cv=5, error_score='raise-deprecating',\n",
       "             estimator=XGBClassifier(base_score=None, booster=None,\n",
       "                                     colsample_bylevel=None,\n",
       "                                     colsample_bynode=None,\n",
       "                                     colsample_bytree=0.8, gamma=0, gpu_id=None,\n",
       "                                     importance_type='gain',\n",
       "                                     interaction_constraints=None,\n",
       "                                     learning_rate=0.1, max_delta_step=None,\n",
       "                                     max_depth=7, min_child_weight=1,\n",
       "                                     missing=nan, monotone_constraints=None,\n",
       "                                     n_...ad=4,\n",
       "                                     num_parallel_tree=None,\n",
       "                                     objective='binary:logistic',\n",
       "                                     random_state=None, reg_alpha=None,\n",
       "                                     reg_lambda=None, scale_pos_weight=1,\n",
       "                                     seed=27, subsample=0.8, tree_method=None,\n",
       "                                     validate_parameters=False,\n",
       "                                     verbosity=None),\n",
       "             iid=False, n_jobs=4,\n",
       "             param_grid={'gamma': [0.0, 0.1, 0.2, 0.3, 0.4]},\n",
       "             pre_dispatch='2*n_jobs', refit=True, return_train_score=False,\n",
       "             scoring='f1', verbose=0)"
      ]
     },
     "execution_count": 148,
     "metadata": {},
     "output_type": "execute_result"
    }
   ],
   "source": [
    "param_test2 = {\n",
    " 'gamma':[i/10.0 for i in range(0,5)]\n",
    "}\n",
    "\n",
    "gsearch2 = GridSearchCV(estimator = XGBClassifier( learning_rate =0.1, n_estimators=140, max_depth=7,\n",
    " min_child_weight=1, gamma=0, subsample=0.8, colsample_bytree=0.8,\n",
    " objective= 'binary:logistic', nthread=4, scale_pos_weight=1, seed=27), \n",
    " param_grid = param_test2, scoring='f1',n_jobs=4,iid=False, cv=5)\n",
    "gsearch2.fit(train.drop('IsGoodNews', axis=1),train.IsGoodNews)"
   ]
  },
  {
   "cell_type": "code",
   "execution_count": 149,
   "metadata": {},
   "outputs": [
    {
     "data": {
      "text/plain": [
       "0.9129059094280769"
      ]
     },
     "execution_count": 149,
     "metadata": {},
     "output_type": "execute_result"
    }
   ],
   "source": [
    "gsearch2.best_score_"
   ]
  },
  {
   "cell_type": "code",
   "execution_count": 150,
   "metadata": {},
   "outputs": [
    {
     "data": {
      "text/plain": [
       "{'gamma': 0.3}"
      ]
     },
     "execution_count": 150,
     "metadata": {},
     "output_type": "execute_result"
    }
   ],
   "source": [
    "gsearch2.best_params_"
   ]
  },
  {
   "cell_type": "code",
   "execution_count": 151,
   "metadata": {},
   "outputs": [
    {
     "data": {
      "text/plain": [
       "GridSearchCV(cv=5, error_score='raise-deprecating',\n",
       "             estimator=XGBClassifier(base_score=None, booster=None,\n",
       "                                     colsample_bylevel=None,\n",
       "                                     colsample_bynode=None,\n",
       "                                     colsample_bytree=0.8, gamma=0.3,\n",
       "                                     gpu_id=None, importance_type='gain',\n",
       "                                     interaction_constraints=None,\n",
       "                                     learning_rate=0.1, max_delta_step=None,\n",
       "                                     max_depth=7, min_child_weight=1,\n",
       "                                     missing=nan, monotone_constraints=None,...\n",
       "                                     objective='binary:logistic',\n",
       "                                     random_state=None, reg_alpha=None,\n",
       "                                     reg_lambda=None, scale_pos_weight=1,\n",
       "                                     seed=27, subsample=0.8, tree_method=None,\n",
       "                                     validate_parameters=False,\n",
       "                                     verbosity=None),\n",
       "             iid=False, n_jobs=4,\n",
       "             param_grid={'colsample_bytree': [0.6, 0.7, 0.8, 0.9],\n",
       "                         'subsample': [0.6, 0.7, 0.8, 0.9]},\n",
       "             pre_dispatch='2*n_jobs', refit=True, return_train_score=False,\n",
       "             scoring='f1', verbose=0)"
      ]
     },
     "execution_count": 151,
     "metadata": {},
     "output_type": "execute_result"
    }
   ],
   "source": [
    "param_test3 = {\n",
    " 'subsample':[i/10.0 for i in range(6,10)],\n",
    " 'colsample_bytree':[i/10.0 for i in range(6,10)]\n",
    "}\n",
    "\n",
    "gsearch3 = GridSearchCV(estimator = XGBClassifier( learning_rate =0.1, n_estimators=140, max_depth=7,\n",
    " min_child_weight=1, gamma=0.3, subsample=0.8, colsample_bytree=0.8,\n",
    " objective= 'binary:logistic', nthread=4, scale_pos_weight=1, seed=27), \n",
    " param_grid = param_test3, scoring='f1',n_jobs=4,iid=False, cv=5)\n",
    "gsearch3.fit(train.drop('IsGoodNews', axis=1),train.IsGoodNews)"
   ]
  },
  {
   "cell_type": "code",
   "execution_count": 152,
   "metadata": {},
   "outputs": [
    {
     "data": {
      "text/plain": [
       "0.9151266876689232"
      ]
     },
     "execution_count": 152,
     "metadata": {},
     "output_type": "execute_result"
    }
   ],
   "source": [
    "gsearch3.best_score_"
   ]
  },
  {
   "cell_type": "code",
   "execution_count": 153,
   "metadata": {},
   "outputs": [
    {
     "data": {
      "text/plain": [
       "{'colsample_bytree': 0.6, 'subsample': 0.8}"
      ]
     },
     "execution_count": 153,
     "metadata": {},
     "output_type": "execute_result"
    }
   ],
   "source": [
    "gsearch3.best_params_"
   ]
  },
  {
   "cell_type": "code",
   "execution_count": 165,
   "metadata": {},
   "outputs": [
    {
     "data": {
      "text/plain": [
       "GridSearchCV(cv=5, error_score='raise-deprecating',\n",
       "             estimator=XGBClassifier(base_score=None, booster=None,\n",
       "                                     colsample_bylevel=None,\n",
       "                                     colsample_bynode=None,\n",
       "                                     colsample_bytree=0.6, gamma=0.3,\n",
       "                                     gpu_id=None, importance_type='gain',\n",
       "                                     interaction_constraints=None,\n",
       "                                     learning_rate=0.1, max_delta_step=None,\n",
       "                                     max_depth=7, min_child_weight=1,\n",
       "                                     missing=nan, monotone_constraints=None,...\n",
       "                                     num_parallel_tree=None,\n",
       "                                     objective='binary:logistic',\n",
       "                                     random_state=None, reg_alpha=None,\n",
       "                                     reg_lambda=None, scale_pos_weight=1,\n",
       "                                     seed=27, subsample=0.8, tree_method=None,\n",
       "                                     validate_parameters=False,\n",
       "                                     verbosity=None),\n",
       "             iid=False, n_jobs=4,\n",
       "             param_grid={'reg_alpha': [0, 0.001, 0.005, 0.01, 0.05]},\n",
       "             pre_dispatch='2*n_jobs', refit=True, return_train_score=False,\n",
       "             scoring='f1', verbose=0)"
      ]
     },
     "execution_count": 165,
     "metadata": {},
     "output_type": "execute_result"
    }
   ],
   "source": [
    "param_test4 = {\n",
    " 'reg_alpha':[0, 0.001, 0.005, 0.01, 0.05]\n",
    "}\n",
    "\n",
    "gsearch4 = GridSearchCV(estimator = XGBClassifier( learning_rate =0.1, n_estimators=140, max_depth=7,\n",
    " min_child_weight=1, gamma=0.3, subsample=0.8, colsample_bytree=0.6,\n",
    " objective= 'binary:logistic', nthread=4, scale_pos_weight=1, seed=27), \n",
    " param_grid = param_test4, scoring='f1',n_jobs=4,iid=False, cv=5)\n",
    "gsearch4.fit(train.drop('IsGoodNews', axis=1),train.IsGoodNews)"
   ]
  },
  {
   "cell_type": "code",
   "execution_count": 166,
   "metadata": {},
   "outputs": [
    {
     "data": {
      "text/plain": [
       "0.9151266876689232"
      ]
     },
     "execution_count": 166,
     "metadata": {},
     "output_type": "execute_result"
    }
   ],
   "source": [
    "gsearch4.best_score_"
   ]
  },
  {
   "cell_type": "code",
   "execution_count": 159,
   "metadata": {},
   "outputs": [
    {
     "data": {
      "text/plain": [
       "{'reg_alpha': 0}"
      ]
     },
     "execution_count": 159,
     "metadata": {},
     "output_type": "execute_result"
    }
   ],
   "source": [
    "gsearch4.best_params_"
   ]
  },
  {
   "cell_type": "code",
   "execution_count": 160,
   "metadata": {},
   "outputs": [
    {
     "data": {
      "text/plain": [
       "GridSearchCV(cv=5, error_score='raise-deprecating',\n",
       "             estimator=XGBClassifier(base_score=None, booster=None,\n",
       "                                     colsample_bylevel=None,\n",
       "                                     colsample_bynode=None,\n",
       "                                     colsample_bytree=0.6, gamma=0.3,\n",
       "                                     gpu_id=None, importance_type='gain',\n",
       "                                     interaction_constraints=None,\n",
       "                                     learning_rate=0.1, max_delta_step=None,\n",
       "                                     max_depth=7, min_child_weight=1,\n",
       "                                     missing=nan, monotone_constraints=None,...\n",
       "                                     num_parallel_tree=None,\n",
       "                                     objective='binary:logistic',\n",
       "                                     random_state=None, reg_alpha=None,\n",
       "                                     reg_lambda=None, scale_pos_weight=1,\n",
       "                                     seed=27, subsample=0.8, tree_method=None,\n",
       "                                     validate_parameters=False,\n",
       "                                     verbosity=None),\n",
       "             iid=False, n_jobs=4,\n",
       "             param_grid={'n_estimators': [100, 200, 300, 400, 500]},\n",
       "             pre_dispatch='2*n_jobs', refit=True, return_train_score=False,\n",
       "             scoring='f1', verbose=0)"
      ]
     },
     "execution_count": 160,
     "metadata": {},
     "output_type": "execute_result"
    }
   ],
   "source": [
    "param_test5 = {\n",
    " 'n_estimators':[100, 200, 300, 400, 500]\n",
    "}\n",
    "\n",
    "gsearch5 = GridSearchCV(estimator = XGBClassifier( learning_rate =0.1, n_estimators=140, max_depth=7,\n",
    " min_child_weight=1, gamma=0.3, subsample=0.8, colsample_bytree=0.6,\n",
    " objective= 'binary:logistic', nthread=4, scale_pos_weight=1, seed=27), \n",
    " param_grid = param_test5, scoring='f1',n_jobs=4,iid=False, cv=5)\n",
    "gsearch5.fit(train.drop('IsGoodNews', axis=1),train.IsGoodNews)"
   ]
  },
  {
   "cell_type": "code",
   "execution_count": 161,
   "metadata": {},
   "outputs": [
    {
     "data": {
      "text/plain": [
       "0.9124143658290848"
      ]
     },
     "execution_count": 161,
     "metadata": {},
     "output_type": "execute_result"
    }
   ],
   "source": [
    "gsearch5.best_score_"
   ]
  },
  {
   "cell_type": "code",
   "execution_count": 162,
   "metadata": {},
   "outputs": [
    {
     "data": {
      "text/plain": [
       "{'n_estimators': 200}"
      ]
     },
     "execution_count": 162,
     "metadata": {},
     "output_type": "execute_result"
    }
   ],
   "source": [
    "gsearch5.best_params_"
   ]
  },
  {
   "cell_type": "code",
   "execution_count": 169,
   "metadata": {},
   "outputs": [
    {
     "data": {
      "text/plain": [
       "GridSearchCV(cv=5, error_score='raise-deprecating',\n",
       "             estimator=XGBClassifier(base_score=None, booster=None,\n",
       "                                     colsample_bylevel=None,\n",
       "                                     colsample_bynode=None,\n",
       "                                     colsample_bytree=0.6, gamma=0.3,\n",
       "                                     gpu_id=None, importance_type='gain',\n",
       "                                     interaction_constraints=None,\n",
       "                                     learning_rate=0.1, max_delta_step=None,\n",
       "                                     max_depth=7, min_child_weight=1,\n",
       "                                     missing=nan, monotone_constraints=None,...\n",
       "                                     num_parallel_tree=None,\n",
       "                                     objective='binary:logistic',\n",
       "                                     random_state=None, reg_alpha=None,\n",
       "                                     reg_lambda=None, scale_pos_weight=1,\n",
       "                                     seed=27, subsample=0.8, tree_method=None,\n",
       "                                     validate_parameters=False,\n",
       "                                     verbosity=None),\n",
       "             iid=False, n_jobs=4,\n",
       "             param_grid={'learning_rate': [0, 0.1, 0.001, 0.005, 0.01, 0.05]},\n",
       "             pre_dispatch='2*n_jobs', refit=True, return_train_score=False,\n",
       "             scoring='f1', verbose=0)"
      ]
     },
     "execution_count": 169,
     "metadata": {},
     "output_type": "execute_result"
    }
   ],
   "source": [
    "param_test6 = {\n",
    " 'learning_rate':[0,0.1, 0.001, 0.005, 0.01, 0.05]\n",
    "}\n",
    "\n",
    "gsearch6 = GridSearchCV(estimator = XGBClassifier( learning_rate =0.1, n_estimators=140, max_depth=7,\n",
    " min_child_weight=1, gamma=0.3, subsample=0.8, colsample_bytree=0.6,\n",
    " objective= 'binary:logistic', nthread=4, scale_pos_weight=1, seed=27), \n",
    " param_grid = param_test6, scoring='f1',n_jobs=4,iid=False, cv=5)\n",
    "gsearch6.fit(train.drop('IsGoodNews', axis=1),train.IsGoodNews)"
   ]
  },
  {
   "cell_type": "code",
   "execution_count": 170,
   "metadata": {},
   "outputs": [
    {
     "data": {
      "text/plain": [
       "0.9151266876689232"
      ]
     },
     "execution_count": 170,
     "metadata": {},
     "output_type": "execute_result"
    }
   ],
   "source": [
    "gsearch6.best_score_"
   ]
  },
  {
   "cell_type": "code",
   "execution_count": 104,
   "metadata": {},
   "outputs": [
    {
     "data": {
      "text/plain": [
       "XGBClassifier(base_score=0.5, booster=None, colsample_bylevel=1,\n",
       "              colsample_bynode=1, colsample_bytree=0.6, gamma=0.3, gpu_id=-1,\n",
       "              importance_type='gain', interaction_constraints=None,\n",
       "              learning_rate=0.1, max_delta_step=0, max_depth=7,\n",
       "              min_child_weight=1, missing=nan, monotone_constraints=None,\n",
       "              n_estimators=140, n_jobs=4, nthread=4, num_parallel_tree=1,\n",
       "              objective='binary:logistic', random_state=27, reg_alpha=0,\n",
       "              reg_lambda=1, scale_pos_weight=1, seed=27, subsample=0.8,\n",
       "              tree_method=None, validate_parameters=False, verbosity=None)"
      ]
     },
     "execution_count": 104,
     "metadata": {},
     "output_type": "execute_result"
    }
   ],
   "source": [
    "xgb = XGBClassifier( learning_rate =0.1, n_estimators=140, max_depth=7,\n",
    " min_child_weight=1, gamma=0.3, subsample=0.8, colsample_bytree=0.6,\n",
    " objective= 'binary:logistic', nthread=4, scale_pos_weight=1, seed=27)\n",
    "\n",
    "xgb.fit(train.drop('IsGoodNews', axis=1), train.IsGoodNews)\n",
    "\n",
    "# predictions = xgb.predict(validData.drop('IsGoodNews', axis=1))\n",
    "# f1_score(y_true=validData.IsGoodNews, y_pred=predictions)"
   ]
  },
  {
   "cell_type": "code",
   "execution_count": 22,
   "metadata": {},
   "outputs": [
    {
     "data": {
      "text/plain": [
       "array([[112,   4],\n",
       "       [  7,  67]], dtype=int64)"
      ]
     },
     "execution_count": 22,
     "metadata": {},
     "output_type": "execute_result"
    }
   ],
   "source": [
    "confusion_matrix(y_true=validData.IsGoodNews, y_pred=predictions)"
   ]
  },
  {
   "cell_type": "markdown",
   "metadata": {},
   "source": [
    "## Light GBM Tuning"
   ]
  },
  {
   "cell_type": "code",
   "execution_count": 180,
   "metadata": {
    "collapsed": true
   },
   "outputs": [
    {
     "data": {
      "text/plain": [
       "GridSearchCV(cv=5, error_score='raise-deprecating',\n",
       "             estimator=LGBMClassifier(boosting_type='gbdt', class_weight=None,\n",
       "                                      colsample_bytree=0.5,\n",
       "                                      importance_type='split', lambda_l1=1.6,\n",
       "                                      lambda_l2=4, learning_rate=0.1,\n",
       "                                      max_depth=-1, min_child_samples=20,\n",
       "                                      min_child_weight=0.001,\n",
       "                                      min_split_gain=0.0, n_estimators=100,\n",
       "                                      n_jobs=-1, num_leaves=70, objective=None,\n",
       "                                      random_state=22...ha=0.0,\n",
       "                                      reg_lambda=0.0, scale_pos_weight=3,\n",
       "                                      silent=True, subsample=1.0,\n",
       "                                      subsample_for_bin=200000,\n",
       "                                      subsample_freq=0),\n",
       "             iid=False, n_jobs=4,\n",
       "             param_grid={'min_child_samples': [10, 20, 30, 40, 50],\n",
       "                         'n_estimators': [50, 100, 150, 200, 250, 300, 350, 400,\n",
       "                                          450],\n",
       "                         'num_leaves': [10, 20, 30, 40, 50, 60, 70]},\n",
       "             pre_dispatch='2*n_jobs', refit=True, return_train_score=False,\n",
       "             scoring='f1', verbose=0)"
      ]
     },
     "execution_count": 180,
     "metadata": {},
     "output_type": "execute_result"
    }
   ],
   "source": [
    "param_test1 ={'num_leaves': [10, 20, 30, 40, 50, 60, 70], \n",
    "             'min_child_samples': [10, 20, 30, 40, 50], \n",
    "            'n_estimators': [50, 100, 150, 200, 250, 300, 350, 400, 450]}\n",
    "\n",
    "\n",
    "lgbm= lgb.LGBMClassifier(n_jobs=-1,random_state=22,scale_pos_weight=3,learning_rate=0.1,n_estimators=100,\n",
    "                       colsample_bytree=0.5,num_leaves=70,min_child_samples=20,lambda_l1=1.6,lambda_l2=4) \n",
    "\n",
    "gsearch1 = GridSearchCV(estimator=lgbm, param_grid = param_test1, scoring='f1',n_jobs=4,iid=False, cv=5)\n",
    "gsearch1.fit(train.drop('IsGoodNews', axis=1),train.IsGoodNews)"
   ]
  },
  {
   "cell_type": "code",
   "execution_count": 181,
   "metadata": {},
   "outputs": [
    {
     "data": {
      "text/plain": [
       "0.9109049278512366"
      ]
     },
     "execution_count": 181,
     "metadata": {},
     "output_type": "execute_result"
    }
   ],
   "source": [
    "gsearch1.best_score_"
   ]
  },
  {
   "cell_type": "code",
   "execution_count": 182,
   "metadata": {},
   "outputs": [
    {
     "data": {
      "text/plain": [
       "{'min_child_samples': 30, 'n_estimators': 300, 'num_leaves': 10}"
      ]
     },
     "execution_count": 182,
     "metadata": {},
     "output_type": "execute_result"
    }
   ],
   "source": [
    "gsearch1.best_params_\n"
   ]
  },
  {
   "cell_type": "code",
   "execution_count": 11,
   "metadata": {
    "collapsed": true
   },
   "outputs": [
    {
     "data": {
      "text/plain": [
       "GridSearchCV(cv=5, error_score='raise-deprecating',\n",
       "             estimator=LGBMClassifier(boosting_type='gbdt', class_weight=None,\n",
       "                                      colsample_bytree=0.5,\n",
       "                                      importance_type='split', lambda_l1=1.6,\n",
       "                                      lambda_l2=4, learning_rate=0.1,\n",
       "                                      max_depth=-1, min_child_samples=30,\n",
       "                                      min_child_weight=0.001,\n",
       "                                      min_split_gain=0.0, n_estimators=300,\n",
       "                                      n_jobs=-1, num_leaves=10, objective=None,\n",
       "                                      random_state=22...\n",
       "                                      silent=True, subsample=1.0,\n",
       "                                      subsample_for_bin=200000,\n",
       "                                      subsample_freq=0),\n",
       "             iid=False, n_jobs=4,\n",
       "             param_grid={'colsample_bytree': [0.3, 0.35, 0.4, 0.5, 0.7, 0.8,\n",
       "                                              0.9],\n",
       "                         'gamma': [0.0, 0.05, 0.1, 0.2],\n",
       "                         'learning_rate': [0.2, 0.25, 0.3, 0.35, 0.4, 0.45],\n",
       "                         'max_depth': [5, 6, 7, 8, 10, 12],\n",
       "                         'min_child_weight': [1, 2, 3, 5, 7]},\n",
       "             pre_dispatch='2*n_jobs', refit=True, return_train_score=False,\n",
       "             scoring='f1', verbose=0)"
      ]
     },
     "execution_count": 11,
     "metadata": {},
     "output_type": "execute_result"
    }
   ],
   "source": [
    "param_test2 = {\"learning_rate\"    : [ 0.20, 0.25, 0.30, 0.35, 0.40, 0.45 ] ,\n",
    " \"max_depth\"        : [  5, 6, 7,8, 10, 12],\n",
    " \"min_child_weight\" : [ 1, 2, 3, 5, 7 ],\n",
    " \"gamma\"            : [ 0.0, 0.05,0.1, 0.2 ],\n",
    " \"colsample_bytree\" : [ 0.3, 0.35,0.4, 0.5 , 0.7, 0.8,0.9 ] }\n",
    "lgbm= lgb.LGBMClassifier(n_jobs=-1,random_state=22,scale_pos_weight=3,learning_rate=0.1,n_estimators=300,\n",
    "                       colsample_bytree=0.5,num_leaves=10,min_child_samples=30,lambda_l1=1.6,lambda_l2=4) \n",
    "\n",
    "gsearch2 = GridSearchCV(estimator=lgbm, param_grid = param_test2, scoring='f1',n_jobs=4,iid=False, cv=5)\n",
    "gsearch2.fit(train.drop('IsGoodNews', axis=1),train.IsGoodNews)\n"
   ]
  },
  {
   "cell_type": "code",
   "execution_count": 12,
   "metadata": {},
   "outputs": [
    {
     "data": {
      "text/plain": [
       "0.9126117019463539"
      ]
     },
     "execution_count": 12,
     "metadata": {},
     "output_type": "execute_result"
    }
   ],
   "source": [
    "gsearch2.best_score_"
   ]
  },
  {
   "cell_type": "code",
   "execution_count": 13,
   "metadata": {},
   "outputs": [
    {
     "data": {
      "text/plain": [
       "{'colsample_bytree': 0.7,\n",
       " 'gamma': 0.0,\n",
       " 'learning_rate': 0.35,\n",
       " 'max_depth': 7,\n",
       " 'min_child_weight': 2}"
      ]
     },
     "execution_count": 13,
     "metadata": {},
     "output_type": "execute_result"
    }
   ],
   "source": [
    "gsearch2.best_params_"
   ]
  },
  {
   "cell_type": "code",
   "execution_count": 109,
   "metadata": {},
   "outputs": [
    {
     "data": {
      "text/plain": [
       "0.979591836734694"
      ]
     },
     "execution_count": 109,
     "metadata": {},
     "output_type": "execute_result"
    }
   ],
   "source": [
    "lgbm= lgb.LGBMClassifier(n_jobs=-1,random_state=22,scale_pos_weight=3,learning_rate=0.35,n_estimators=300,\n",
    "    colsample_bytree=0.7,num_leaves=10,min_child_samples=30,lambda_l1=1.6,lambda_l2=4, max_depth=7,min_child_weight= 1, gamma=0.0)\n",
    "\n",
    "lgbm.fit(train.drop('IsGoodNews', axis=1), train.IsGoodNews)\n",
    "predictions = lgbm.predict(validData.drop('IsGoodNews', axis=1))\n",
    "f1_score(y_true=validData.IsGoodNews, y_pred=predictions)"
   ]
  },
  {
   "cell_type": "code",
   "execution_count": 16,
   "metadata": {},
   "outputs": [
    {
     "data": {
      "text/plain": [
       "array([[109,   7],\n",
       "       [  3,  71]], dtype=int64)"
      ]
     },
     "execution_count": 16,
     "metadata": {},
     "output_type": "execute_result"
    }
   ],
   "source": [
    "confusion_matrix(y_true=validData.IsGoodNews, y_pred=predictions)"
   ]
  },
  {
   "cell_type": "markdown",
   "metadata": {},
   "source": [
    "## Random Forest"
   ]
  },
  {
   "cell_type": "code",
   "execution_count": 29,
   "metadata": {},
   "outputs": [
    {
     "name": "stderr",
     "output_type": "stream",
     "text": [
      "C:\\ProgramData\\Anaconda3\\lib\\site-packages\\sklearn\\ensemble\\forest.py:245: FutureWarning: The default value of n_estimators will change from 10 in version 0.20 to 100 in 0.22.\n",
      "  \"10 in version 0.20 to 100 in 0.22.\", FutureWarning)\n"
     ]
    },
    {
     "data": {
      "text/plain": [
       "0.896551724137931"
      ]
     },
     "execution_count": 29,
     "metadata": {},
     "output_type": "execute_result"
    }
   ],
   "source": [
    "RF = RandomForestClassifier(random_state=42)\n",
    "RF.fit(trainData.drop('IsGoodNews', axis=1), trainData.IsGoodNews)\n",
    "predictions = RF.predict(validData.drop('IsGoodNews', axis=1))\n",
    "f1_score(y_true=validData.IsGoodNews, y_pred=predictions)"
   ]
  },
  {
   "cell_type": "code",
   "execution_count": 30,
   "metadata": {},
   "outputs": [
    {
     "data": {
      "text/plain": [
       "array([[110,   6],\n",
       "       [  9,  65]], dtype=int64)"
      ]
     },
     "execution_count": 30,
     "metadata": {},
     "output_type": "execute_result"
    }
   ],
   "source": [
    "confusion_matrix(y_true=validData.IsGoodNews, y_pred=predictions)"
   ]
  },
  {
   "cell_type": "code",
   "execution_count": 31,
   "metadata": {},
   "outputs": [
    {
     "data": {
      "text/plain": [
       "<bound method BaseEstimator.get_params of RandomForestClassifier(bootstrap=True, class_weight=None, criterion='gini',\n",
       "                       max_depth=None, max_features='auto', max_leaf_nodes=None,\n",
       "                       min_impurity_decrease=0.0, min_impurity_split=None,\n",
       "                       min_samples_leaf=1, min_samples_split=2,\n",
       "                       min_weight_fraction_leaf=0.0, n_estimators=10,\n",
       "                       n_jobs=None, oob_score=False, random_state=42, verbose=0,\n",
       "                       warm_start=False)>"
      ]
     },
     "execution_count": 31,
     "metadata": {},
     "output_type": "execute_result"
    }
   ],
   "source": [
    "RF.get_params"
   ]
  },
  {
   "cell_type": "code",
   "execution_count": 32,
   "metadata": {},
   "outputs": [
    {
     "data": {
      "text/plain": [
       "GridSearchCV(cv=5, error_score='raise-deprecating',\n",
       "             estimator=RandomForestClassifier(bootstrap=True, class_weight=None,\n",
       "                                              criterion='gini', max_depth=None,\n",
       "                                              max_features='auto',\n",
       "                                              max_leaf_nodes=None,\n",
       "                                              min_impurity_decrease=0.0,\n",
       "                                              min_impurity_split=None,\n",
       "                                              min_samples_leaf=1,\n",
       "                                              min_samples_split=2,\n",
       "                                              min_weight_fraction_leaf=0.0,\n",
       "                                              n_estimators='warn', n_jobs=None,\n",
       "                                              oob_score=Fa...\n",
       "                                              verbose=0, warm_start=False),\n",
       "             iid=False, n_jobs=4,\n",
       "             param_grid={'bootstrap': [True, False],\n",
       "                         'max_depth': [10, 20, 30, 40, 50, 60, 70, 80, 90, 100,\n",
       "                                       None],\n",
       "                         'max_features': ['auto', 'sqrt'],\n",
       "                         'min_samples_leaf': [1, 2, 4],\n",
       "                         'min_samples_split': [2, 5, 10],\n",
       "                         'n_estimators': [200, 400, 600, 800, 1000, 1200, 1400,\n",
       "                                          1600, 1800, 2000]},\n",
       "             pre_dispatch='2*n_jobs', refit=True, return_train_score=False,\n",
       "             scoring='f1', verbose=0)"
      ]
     },
     "execution_count": 32,
     "metadata": {},
     "output_type": "execute_result"
    }
   ],
   "source": [
    "param_test1 = {'bootstrap': [True, False],\n",
    " 'max_depth': [10, 20, 30, 40, 50, 60, 70, 80, 90, 100, None],\n",
    " 'max_features': ['auto', 'sqrt'],\n",
    " 'min_samples_leaf': [1, 2, 4],\n",
    " 'min_samples_split': [2, 5, 10],\n",
    " 'n_estimators': [200, 400, 600, 800, 1000, 1200, 1400, 1600, 1800, 2000]}\n",
    "RF = RandomForestClassifier(random_state=42)\n",
    "\n",
    "gsearch1 = GridSearchCV(estimator=RF, param_grid = param_test1, scoring='f1',n_jobs=4,iid=False, cv=5)\n",
    "gsearch1.fit(train.drop('IsGoodNews', axis=1),train.IsGoodNews)\n"
   ]
  },
  {
   "cell_type": "code",
   "execution_count": 33,
   "metadata": {},
   "outputs": [
    {
     "data": {
      "text/plain": [
       "0.9092473611533596"
      ]
     },
     "execution_count": 33,
     "metadata": {},
     "output_type": "execute_result"
    }
   ],
   "source": [
    "gsearch1.best_score_"
   ]
  },
  {
   "cell_type": "code",
   "execution_count": 34,
   "metadata": {},
   "outputs": [
    {
     "data": {
      "text/plain": [
       "{'bootstrap': False,\n",
       " 'max_depth': 20,\n",
       " 'max_features': 'auto',\n",
       " 'min_samples_leaf': 1,\n",
       " 'min_samples_split': 2,\n",
       " 'n_estimators': 1400}"
      ]
     },
     "execution_count": 34,
     "metadata": {},
     "output_type": "execute_result"
    }
   ],
   "source": [
    "gsearch1.best_params_"
   ]
  },
  {
   "cell_type": "code",
   "execution_count": 114,
   "metadata": {},
   "outputs": [
    {
     "data": {
      "text/plain": [
       "0.9793103448275862"
      ]
     },
     "execution_count": 114,
     "metadata": {},
     "output_type": "execute_result"
    }
   ],
   "source": [
    "RF = RandomForestClassifier(criterion = 'entropy',bootstrap= False, max_depth= 20, max_features= 'auto', min_samples_leaf= 1, min_samples_split = 2,\n",
    " n_estimators =1400,random_state=42)\n",
    "\n",
    "RF.fit(train.drop('IsGoodNews', axis=1), train.IsGoodNews)\n",
    "predictions = RF.predict(validData.drop('IsGoodNews', axis=1))\n",
    "f1_score(y_true=validData.IsGoodNews, y_pred=predictions)"
   ]
  },
  {
   "cell_type": "code",
   "execution_count": 39,
   "metadata": {},
   "outputs": [
    {
     "data": {
      "text/plain": [
       "array([[111,   5],\n",
       "       [  8,  66]], dtype=int64)"
      ]
     },
     "execution_count": 39,
     "metadata": {},
     "output_type": "execute_result"
    }
   ],
   "source": [
    "confusion_matrix(y_true=validData.IsGoodNews, y_pred=predictions)"
   ]
  },
  {
   "cell_type": "code",
   "execution_count": 52,
   "metadata": {},
   "outputs": [
    {
     "data": {
      "text/plain": [
       "0.8827586206896552"
      ]
     },
     "execution_count": 52,
     "metadata": {},
     "output_type": "execute_result"
    }
   ],
   "source": [
    "SVM = svm.SVC(kernel='linear')\n",
    "SVM.fit(trainData.drop('IsGoodNews', axis=1), trainData.IsGoodNews)\n",
    "predictions = SVM.predict(validData.drop('IsGoodNews', axis=1))\n",
    "f1_score(y_true=validData.IsGoodNews, y_pred=predictions)"
   ]
  },
  {
   "cell_type": "code",
   "execution_count": 53,
   "metadata": {},
   "outputs": [
    {
     "data": {
      "text/plain": [
       "array([[109,   7],\n",
       "       [ 10,  64]], dtype=int64)"
      ]
     },
     "execution_count": 53,
     "metadata": {},
     "output_type": "execute_result"
    }
   ],
   "source": [
    "confusion_matrix(y_true=validData.IsGoodNews, y_pred=predictions)"
   ]
  },
  {
   "cell_type": "code",
   "execution_count": 130,
   "metadata": {},
   "outputs": [
    {
     "data": {
      "text/plain": [
       "0"
      ]
     },
     "execution_count": 130,
     "metadata": {},
     "output_type": "execute_result"
    }
   ],
   "source": [
    "test.isna().sum().sum()"
   ]
  },
  {
   "cell_type": "code",
   "execution_count": 122,
   "metadata": {},
   "outputs": [],
   "source": [
    "test_pred_lgbm = lgbm.predict(test)\n",
    "test_pred_xgb = xgb.predict(test)\n",
    "test_pred_rf = RF.predict(test)"
   ]
  },
  {
   "cell_type": "code",
   "execution_count": 123,
   "metadata": {},
   "outputs": [],
   "source": [
    "import statistics \n",
    "\n",
    "result = []\n",
    "for a,b,c in zip(test_pred_lgbm,test_pred_xgb,test_pred_rf):\n",
    "    mylist = [a,b,c]\n",
    "    final_pred = statistics.mode(mylist)\n",
    "    result.append(final_pred)"
   ]
  },
  {
   "cell_type": "code",
   "execution_count": 124,
   "metadata": {},
   "outputs": [],
   "source": [
    "test_pred = pd.DataFrame(result, columns=['IsGoodNews'])"
   ]
  },
  {
   "cell_type": "code",
   "execution_count": 125,
   "metadata": {},
   "outputs": [
    {
     "data": {
      "text/plain": [
       "0    328\n",
       "1    199\n",
       "Name: IsGoodNews, dtype: int64"
      ]
     },
     "execution_count": 125,
     "metadata": {},
     "output_type": "execute_result"
    }
   ],
   "source": [
    "test_pred.IsGoodNews.value_counts()"
   ]
  },
  {
   "cell_type": "code",
   "execution_count": 126,
   "metadata": {},
   "outputs": [],
   "source": [
    "test_pred.to_excel('Sample_Submission.xlsx', index=False)"
   ]
  },
  {
   "cell_type": "code",
   "execution_count": null,
   "metadata": {},
   "outputs": [],
   "source": []
  }
 ],
 "metadata": {
  "kernelspec": {
   "display_name": "Python 3",
   "language": "python",
   "name": "python3"
  },
  "language_info": {
   "codemirror_mode": {
    "name": "ipython",
    "version": 3
   },
   "file_extension": ".py",
   "mimetype": "text/x-python",
   "name": "python",
   "nbconvert_exporter": "python",
   "pygments_lexer": "ipython3",
   "version": "3.7.4"
  }
 },
 "nbformat": 4,
 "nbformat_minor": 2
}
